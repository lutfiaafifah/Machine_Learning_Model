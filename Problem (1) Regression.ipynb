{
 "cells": [
  {
   "cell_type": "markdown",
   "metadata": {},
   "source": [
    "# Problem (1) Data Automobile - Regression"
   ]
  },
  {
   "cell_type": "markdown",
   "metadata": {},
   "source": [
    "### 1. Examine problem \n",
    "\n",
    "Menentukan prediksi harga mobil."
   ]
  },
  {
   "cell_type": "markdown",
   "metadata": {},
   "source": [
    "### 2. Prepare data"
   ]
  },
  {
   "cell_type": "markdown",
   "metadata": {},
   "source": [
    "#### Load data automobile"
   ]
  },
  {
   "cell_type": "code",
   "execution_count": 1,
   "metadata": {
    "scrolled": true
   },
   "outputs": [
    {
     "data": {
      "text/html": [
       "<div>\n",
       "<style scoped>\n",
       "    .dataframe tbody tr th:only-of-type {\n",
       "        vertical-align: middle;\n",
       "    }\n",
       "\n",
       "    .dataframe tbody tr th {\n",
       "        vertical-align: top;\n",
       "    }\n",
       "\n",
       "    .dataframe thead th {\n",
       "        text-align: right;\n",
       "    }\n",
       "</style>\n",
       "<table border=\"1\" class=\"dataframe\">\n",
       "  <thead>\n",
       "    <tr style=\"text-align: right;\">\n",
       "      <th></th>\n",
       "      <th>0</th>\n",
       "      <th>1</th>\n",
       "      <th>2</th>\n",
       "      <th>3</th>\n",
       "      <th>4</th>\n",
       "      <th>5</th>\n",
       "      <th>6</th>\n",
       "      <th>7</th>\n",
       "      <th>8</th>\n",
       "      <th>9</th>\n",
       "      <th>...</th>\n",
       "      <th>16</th>\n",
       "      <th>17</th>\n",
       "      <th>18</th>\n",
       "      <th>19</th>\n",
       "      <th>20</th>\n",
       "      <th>21</th>\n",
       "      <th>22</th>\n",
       "      <th>23</th>\n",
       "      <th>24</th>\n",
       "      <th>25</th>\n",
       "    </tr>\n",
       "  </thead>\n",
       "  <tbody>\n",
       "    <tr>\n",
       "      <th>0</th>\n",
       "      <td>3</td>\n",
       "      <td>?</td>\n",
       "      <td>alfa-romero</td>\n",
       "      <td>gas</td>\n",
       "      <td>std</td>\n",
       "      <td>two</td>\n",
       "      <td>convertible</td>\n",
       "      <td>rwd</td>\n",
       "      <td>front</td>\n",
       "      <td>88.6</td>\n",
       "      <td>...</td>\n",
       "      <td>130</td>\n",
       "      <td>mpfi</td>\n",
       "      <td>3.47</td>\n",
       "      <td>2.68</td>\n",
       "      <td>9.0</td>\n",
       "      <td>111</td>\n",
       "      <td>5000</td>\n",
       "      <td>21</td>\n",
       "      <td>27</td>\n",
       "      <td>13495</td>\n",
       "    </tr>\n",
       "    <tr>\n",
       "      <th>1</th>\n",
       "      <td>3</td>\n",
       "      <td>?</td>\n",
       "      <td>alfa-romero</td>\n",
       "      <td>gas</td>\n",
       "      <td>std</td>\n",
       "      <td>two</td>\n",
       "      <td>convertible</td>\n",
       "      <td>rwd</td>\n",
       "      <td>front</td>\n",
       "      <td>88.6</td>\n",
       "      <td>...</td>\n",
       "      <td>130</td>\n",
       "      <td>mpfi</td>\n",
       "      <td>3.47</td>\n",
       "      <td>2.68</td>\n",
       "      <td>9.0</td>\n",
       "      <td>111</td>\n",
       "      <td>5000</td>\n",
       "      <td>21</td>\n",
       "      <td>27</td>\n",
       "      <td>16500</td>\n",
       "    </tr>\n",
       "    <tr>\n",
       "      <th>2</th>\n",
       "      <td>1</td>\n",
       "      <td>?</td>\n",
       "      <td>alfa-romero</td>\n",
       "      <td>gas</td>\n",
       "      <td>std</td>\n",
       "      <td>two</td>\n",
       "      <td>hatchback</td>\n",
       "      <td>rwd</td>\n",
       "      <td>front</td>\n",
       "      <td>94.5</td>\n",
       "      <td>...</td>\n",
       "      <td>152</td>\n",
       "      <td>mpfi</td>\n",
       "      <td>2.68</td>\n",
       "      <td>3.47</td>\n",
       "      <td>9.0</td>\n",
       "      <td>154</td>\n",
       "      <td>5000</td>\n",
       "      <td>19</td>\n",
       "      <td>26</td>\n",
       "      <td>16500</td>\n",
       "    </tr>\n",
       "    <tr>\n",
       "      <th>3</th>\n",
       "      <td>2</td>\n",
       "      <td>164</td>\n",
       "      <td>audi</td>\n",
       "      <td>gas</td>\n",
       "      <td>std</td>\n",
       "      <td>four</td>\n",
       "      <td>sedan</td>\n",
       "      <td>fwd</td>\n",
       "      <td>front</td>\n",
       "      <td>99.8</td>\n",
       "      <td>...</td>\n",
       "      <td>109</td>\n",
       "      <td>mpfi</td>\n",
       "      <td>3.19</td>\n",
       "      <td>3.40</td>\n",
       "      <td>10.0</td>\n",
       "      <td>102</td>\n",
       "      <td>5500</td>\n",
       "      <td>24</td>\n",
       "      <td>30</td>\n",
       "      <td>13950</td>\n",
       "    </tr>\n",
       "    <tr>\n",
       "      <th>4</th>\n",
       "      <td>2</td>\n",
       "      <td>164</td>\n",
       "      <td>audi</td>\n",
       "      <td>gas</td>\n",
       "      <td>std</td>\n",
       "      <td>four</td>\n",
       "      <td>sedan</td>\n",
       "      <td>4wd</td>\n",
       "      <td>front</td>\n",
       "      <td>99.4</td>\n",
       "      <td>...</td>\n",
       "      <td>136</td>\n",
       "      <td>mpfi</td>\n",
       "      <td>3.19</td>\n",
       "      <td>3.40</td>\n",
       "      <td>8.0</td>\n",
       "      <td>115</td>\n",
       "      <td>5500</td>\n",
       "      <td>18</td>\n",
       "      <td>22</td>\n",
       "      <td>17450</td>\n",
       "    </tr>\n",
       "    <tr>\n",
       "      <th>5</th>\n",
       "      <td>2</td>\n",
       "      <td>?</td>\n",
       "      <td>audi</td>\n",
       "      <td>gas</td>\n",
       "      <td>std</td>\n",
       "      <td>two</td>\n",
       "      <td>sedan</td>\n",
       "      <td>fwd</td>\n",
       "      <td>front</td>\n",
       "      <td>99.8</td>\n",
       "      <td>...</td>\n",
       "      <td>136</td>\n",
       "      <td>mpfi</td>\n",
       "      <td>3.19</td>\n",
       "      <td>3.40</td>\n",
       "      <td>8.5</td>\n",
       "      <td>110</td>\n",
       "      <td>5500</td>\n",
       "      <td>19</td>\n",
       "      <td>25</td>\n",
       "      <td>15250</td>\n",
       "    </tr>\n",
       "    <tr>\n",
       "      <th>6</th>\n",
       "      <td>1</td>\n",
       "      <td>158</td>\n",
       "      <td>audi</td>\n",
       "      <td>gas</td>\n",
       "      <td>std</td>\n",
       "      <td>four</td>\n",
       "      <td>sedan</td>\n",
       "      <td>fwd</td>\n",
       "      <td>front</td>\n",
       "      <td>105.8</td>\n",
       "      <td>...</td>\n",
       "      <td>136</td>\n",
       "      <td>mpfi</td>\n",
       "      <td>3.19</td>\n",
       "      <td>3.40</td>\n",
       "      <td>8.5</td>\n",
       "      <td>110</td>\n",
       "      <td>5500</td>\n",
       "      <td>19</td>\n",
       "      <td>25</td>\n",
       "      <td>17710</td>\n",
       "    </tr>\n",
       "    <tr>\n",
       "      <th>7</th>\n",
       "      <td>1</td>\n",
       "      <td>?</td>\n",
       "      <td>audi</td>\n",
       "      <td>gas</td>\n",
       "      <td>std</td>\n",
       "      <td>four</td>\n",
       "      <td>wagon</td>\n",
       "      <td>fwd</td>\n",
       "      <td>front</td>\n",
       "      <td>105.8</td>\n",
       "      <td>...</td>\n",
       "      <td>136</td>\n",
       "      <td>mpfi</td>\n",
       "      <td>3.19</td>\n",
       "      <td>3.40</td>\n",
       "      <td>8.5</td>\n",
       "      <td>110</td>\n",
       "      <td>5500</td>\n",
       "      <td>19</td>\n",
       "      <td>25</td>\n",
       "      <td>18920</td>\n",
       "    </tr>\n",
       "    <tr>\n",
       "      <th>8</th>\n",
       "      <td>1</td>\n",
       "      <td>158</td>\n",
       "      <td>audi</td>\n",
       "      <td>gas</td>\n",
       "      <td>turbo</td>\n",
       "      <td>four</td>\n",
       "      <td>sedan</td>\n",
       "      <td>fwd</td>\n",
       "      <td>front</td>\n",
       "      <td>105.8</td>\n",
       "      <td>...</td>\n",
       "      <td>131</td>\n",
       "      <td>mpfi</td>\n",
       "      <td>3.13</td>\n",
       "      <td>3.40</td>\n",
       "      <td>8.3</td>\n",
       "      <td>140</td>\n",
       "      <td>5500</td>\n",
       "      <td>17</td>\n",
       "      <td>20</td>\n",
       "      <td>23875</td>\n",
       "    </tr>\n",
       "    <tr>\n",
       "      <th>9</th>\n",
       "      <td>0</td>\n",
       "      <td>?</td>\n",
       "      <td>audi</td>\n",
       "      <td>gas</td>\n",
       "      <td>turbo</td>\n",
       "      <td>two</td>\n",
       "      <td>hatchback</td>\n",
       "      <td>4wd</td>\n",
       "      <td>front</td>\n",
       "      <td>99.5</td>\n",
       "      <td>...</td>\n",
       "      <td>131</td>\n",
       "      <td>mpfi</td>\n",
       "      <td>3.13</td>\n",
       "      <td>3.40</td>\n",
       "      <td>7.0</td>\n",
       "      <td>160</td>\n",
       "      <td>5500</td>\n",
       "      <td>16</td>\n",
       "      <td>22</td>\n",
       "      <td>?</td>\n",
       "    </tr>\n",
       "  </tbody>\n",
       "</table>\n",
       "<p>10 rows × 26 columns</p>\n",
       "</div>"
      ],
      "text/plain": [
       "   0    1            2    3      4     5            6    7      8      9   \\\n",
       "0   3    ?  alfa-romero  gas    std   two  convertible  rwd  front   88.6   \n",
       "1   3    ?  alfa-romero  gas    std   two  convertible  rwd  front   88.6   \n",
       "2   1    ?  alfa-romero  gas    std   two    hatchback  rwd  front   94.5   \n",
       "3   2  164         audi  gas    std  four        sedan  fwd  front   99.8   \n",
       "4   2  164         audi  gas    std  four        sedan  4wd  front   99.4   \n",
       "5   2    ?         audi  gas    std   two        sedan  fwd  front   99.8   \n",
       "6   1  158         audi  gas    std  four        sedan  fwd  front  105.8   \n",
       "7   1    ?         audi  gas    std  four        wagon  fwd  front  105.8   \n",
       "8   1  158         audi  gas  turbo  four        sedan  fwd  front  105.8   \n",
       "9   0    ?         audi  gas  turbo   two    hatchback  4wd  front   99.5   \n",
       "\n",
       "   ...   16    17    18    19    20   21    22  23  24     25  \n",
       "0  ...  130  mpfi  3.47  2.68   9.0  111  5000  21  27  13495  \n",
       "1  ...  130  mpfi  3.47  2.68   9.0  111  5000  21  27  16500  \n",
       "2  ...  152  mpfi  2.68  3.47   9.0  154  5000  19  26  16500  \n",
       "3  ...  109  mpfi  3.19  3.40  10.0  102  5500  24  30  13950  \n",
       "4  ...  136  mpfi  3.19  3.40   8.0  115  5500  18  22  17450  \n",
       "5  ...  136  mpfi  3.19  3.40   8.5  110  5500  19  25  15250  \n",
       "6  ...  136  mpfi  3.19  3.40   8.5  110  5500  19  25  17710  \n",
       "7  ...  136  mpfi  3.19  3.40   8.5  110  5500  19  25  18920  \n",
       "8  ...  131  mpfi  3.13  3.40   8.3  140  5500  17  20  23875  \n",
       "9  ...  131  mpfi  3.13  3.40   7.0  160  5500  16  22      ?  \n",
       "\n",
       "[10 rows x 26 columns]"
      ]
     },
     "execution_count": 1,
     "metadata": {},
     "output_type": "execute_result"
    }
   ],
   "source": [
    "import pandas as pd\n",
    "\n",
    "df = pd.read_csv(\"imports-85.data\", header=None)\n",
    "df.head(10)"
   ]
  },
  {
   "cell_type": "code",
   "execution_count": 2,
   "metadata": {},
   "outputs": [
    {
     "data": {
      "text/plain": [
       "(205, 26)"
      ]
     },
     "execution_count": 2,
     "metadata": {},
     "output_type": "execute_result"
    }
   ],
   "source": [
    "df.shape"
   ]
  },
  {
   "cell_type": "code",
   "execution_count": 3,
   "metadata": {},
   "outputs": [
    {
     "name": "stdout",
     "output_type": "stream",
     "text": [
      "1  :  41\n",
      "5  :  2\n",
      "18  :  4\n",
      "19  :  4\n",
      "21  :  2\n",
      "22  :  2\n",
      "25  :  4\n"
     ]
    },
    {
     "name": "stderr",
     "output_type": "stream",
     "text": [
      "C:\\Users\\levono\\Anaconda3\\lib\\site-packages\\pandas\\core\\ops.py:1649: FutureWarning: elementwise comparison failed; returning scalar instead, but in the future will perform elementwise comparison\n",
      "  result = method(y)\n"
     ]
    }
   ],
   "source": [
    "for i in df:\n",
    "    nr = df[df[i]=='?'].shape[0]\n",
    "    if nr > 0:\n",
    "        print(i,' : ', nr)"
   ]
  },
  {
   "cell_type": "code",
   "execution_count": 4,
   "metadata": {},
   "outputs": [
    {
     "data": {
      "text/plain": [
       "0       int64\n",
       "1      object\n",
       "2      object\n",
       "3      object\n",
       "4      object\n",
       "5      object\n",
       "6      object\n",
       "7      object\n",
       "8      object\n",
       "9     float64\n",
       "10    float64\n",
       "11    float64\n",
       "12    float64\n",
       "13      int64\n",
       "14     object\n",
       "15     object\n",
       "16      int64\n",
       "17     object\n",
       "18     object\n",
       "19     object\n",
       "20    float64\n",
       "21     object\n",
       "22     object\n",
       "23      int64\n",
       "24      int64\n",
       "25     object\n",
       "dtype: object"
      ]
     },
     "execution_count": 4,
     "metadata": {},
     "output_type": "execute_result"
    }
   ],
   "source": [
    "df.dtypes"
   ]
  },
  {
   "cell_type": "code",
   "execution_count": 5,
   "metadata": {},
   "outputs": [
    {
     "name": "stdout",
     "output_type": "stream",
     "text": [
      "\n",
      "Attribute- 1 : 41\n",
      "\n",
      "Attribute- 18 : 4\n",
      "\n",
      "Attribute- 19 : 4\n",
      "\n",
      "Attribute- 21 : 2\n",
      "\n",
      "Attribute- 22 : 2\n",
      "\n",
      "Attribute- 25 : 4\n"
     ]
    },
    {
     "data": {
      "text/plain": [
       "0       int64\n",
       "1     float64\n",
       "2      object\n",
       "3      object\n",
       "4      object\n",
       "5      object\n",
       "6      object\n",
       "7      object\n",
       "8      object\n",
       "9     float64\n",
       "10    float64\n",
       "11    float64\n",
       "12    float64\n",
       "13      int64\n",
       "14     object\n",
       "15     object\n",
       "16      int64\n",
       "17     object\n",
       "18    float64\n",
       "19    float64\n",
       "20    float64\n",
       "21    float64\n",
       "22    float64\n",
       "23      int64\n",
       "24      int64\n",
       "25    float64\n",
       "dtype: object"
      ]
     },
     "execution_count": 5,
     "metadata": {},
     "output_type": "execute_result"
    }
   ],
   "source": [
    "import numpy as np\n",
    "\n",
    "for i in range(len(df.columns)):\n",
    "    if (i!=5) and (df[i].dtypes=='object') and (df[df[i]=='?'].shape[0]>0):\n",
    "    #not including att-5 (num-of-doors)\n",
    "            print('\\nAttribute-',i,':',df[df[i]=='?'].shape[0])\n",
    "            df[i] = df[i].replace('?', np.NaN)\n",
    "            df[i] = df[i].astype('float64')\n",
    "                                                \n",
    "df.dtypes"
   ]
  },
  {
   "cell_type": "code",
   "execution_count": 6,
   "metadata": {},
   "outputs": [
    {
     "data": {
      "text/plain": [
       "159"
      ]
     },
     "execution_count": 6,
     "metadata": {},
     "output_type": "execute_result"
    }
   ],
   "source": [
    "df[5] = df[5].replace('?', np.NaN)\n",
    "df_drop = df.dropna()\n",
    "df_drop.shape[0]"
   ]
  },
  {
   "cell_type": "markdown",
   "metadata": {},
   "source": [
    "#### Mengisi data missing value di kolom yang bertipe int64 dan float64 dengan nilai mean di masing-masing kolom, sedangkan untuk data di kolom yang bertipe object dengan mode atau modus di masing-masing kolom."
   ]
  },
  {
   "cell_type": "code",
   "execution_count": 7,
   "metadata": {},
   "outputs": [
    {
     "name": "stdout",
     "output_type": "stream",
     "text": [
      "\n",
      "Attribute- 1  (before) : 41\n",
      "\n",
      "Attribute- 1  (after) : 0\n",
      "\n",
      "Attribute- 5  (before) : 2\n",
      "\n",
      "Attribute- 5  (after) : 0\n",
      "\n",
      "Attribute- 18  (before) : 4\n",
      "\n",
      "Attribute- 18  (after) : 0\n",
      "\n",
      "Attribute- 19  (before) : 4\n",
      "\n",
      "Attribute- 19  (after) : 0\n",
      "\n",
      "Attribute- 21  (before) : 2\n",
      "\n",
      "Attribute- 21  (after) : 0\n",
      "\n",
      "Attribute- 22  (before) : 2\n",
      "\n",
      "Attribute- 22  (after) : 0\n",
      "\n",
      "Attribute- 25  (before) : 4\n",
      "\n",
      "Attribute- 25  (after) : 0\n"
     ]
    }
   ],
   "source": [
    "for i in range(len(df.columns)):\n",
    "    if (df[df[i].isnull()].shape[0]>0):\n",
    "        print('\\nAttribute-',i,' (before) :',df[df[i].isnull()].shape[0])\n",
    "        if (df[i].dtypes in ['int64','float64']):\n",
    "            df[i].fillna(df[df[i].notnull()][i].mean(), inplace=True)\n",
    "        else:\n",
    "            df[i].fillna(df[df[i].notnull()][i].mode()[0], inplace=True)\n",
    "        print('\\nAttribute-',i,' (after) :',df[df[i].isnull()].shape[0])\n",
    "    \n",
    "    df.describe()"
   ]
  },
  {
   "cell_type": "markdown",
   "metadata": {},
   "source": [
    "#### Mengubah nilai data yang bertipe object menjadi category"
   ]
  },
  {
   "cell_type": "code",
   "execution_count": 8,
   "metadata": {},
   "outputs": [
    {
     "data": {
      "text/html": [
       "<div>\n",
       "<style scoped>\n",
       "    .dataframe tbody tr th:only-of-type {\n",
       "        vertical-align: middle;\n",
       "    }\n",
       "\n",
       "    .dataframe tbody tr th {\n",
       "        vertical-align: top;\n",
       "    }\n",
       "\n",
       "    .dataframe thead th {\n",
       "        text-align: right;\n",
       "    }\n",
       "</style>\n",
       "<table border=\"1\" class=\"dataframe\">\n",
       "  <thead>\n",
       "    <tr style=\"text-align: right;\">\n",
       "      <th></th>\n",
       "      <th>0</th>\n",
       "      <th>1</th>\n",
       "      <th>2</th>\n",
       "      <th>3</th>\n",
       "      <th>4</th>\n",
       "      <th>5</th>\n",
       "      <th>6</th>\n",
       "      <th>7</th>\n",
       "      <th>8</th>\n",
       "      <th>9</th>\n",
       "      <th>...</th>\n",
       "      <th>16</th>\n",
       "      <th>17</th>\n",
       "      <th>18</th>\n",
       "      <th>19</th>\n",
       "      <th>20</th>\n",
       "      <th>21</th>\n",
       "      <th>22</th>\n",
       "      <th>23</th>\n",
       "      <th>24</th>\n",
       "      <th>25</th>\n",
       "    </tr>\n",
       "  </thead>\n",
       "  <tbody>\n",
       "    <tr>\n",
       "      <th>0</th>\n",
       "      <td>3</td>\n",
       "      <td>122.0</td>\n",
       "      <td>0</td>\n",
       "      <td>1</td>\n",
       "      <td>0</td>\n",
       "      <td>1</td>\n",
       "      <td>0</td>\n",
       "      <td>2</td>\n",
       "      <td>0</td>\n",
       "      <td>88.6</td>\n",
       "      <td>...</td>\n",
       "      <td>130</td>\n",
       "      <td>5</td>\n",
       "      <td>3.47</td>\n",
       "      <td>2.68</td>\n",
       "      <td>9.0</td>\n",
       "      <td>111.0</td>\n",
       "      <td>5000.0</td>\n",
       "      <td>21</td>\n",
       "      <td>27</td>\n",
       "      <td>13495.0</td>\n",
       "    </tr>\n",
       "    <tr>\n",
       "      <th>1</th>\n",
       "      <td>3</td>\n",
       "      <td>122.0</td>\n",
       "      <td>0</td>\n",
       "      <td>1</td>\n",
       "      <td>0</td>\n",
       "      <td>1</td>\n",
       "      <td>0</td>\n",
       "      <td>2</td>\n",
       "      <td>0</td>\n",
       "      <td>88.6</td>\n",
       "      <td>...</td>\n",
       "      <td>130</td>\n",
       "      <td>5</td>\n",
       "      <td>3.47</td>\n",
       "      <td>2.68</td>\n",
       "      <td>9.0</td>\n",
       "      <td>111.0</td>\n",
       "      <td>5000.0</td>\n",
       "      <td>21</td>\n",
       "      <td>27</td>\n",
       "      <td>16500.0</td>\n",
       "    </tr>\n",
       "    <tr>\n",
       "      <th>2</th>\n",
       "      <td>1</td>\n",
       "      <td>122.0</td>\n",
       "      <td>0</td>\n",
       "      <td>1</td>\n",
       "      <td>0</td>\n",
       "      <td>1</td>\n",
       "      <td>2</td>\n",
       "      <td>2</td>\n",
       "      <td>0</td>\n",
       "      <td>94.5</td>\n",
       "      <td>...</td>\n",
       "      <td>152</td>\n",
       "      <td>5</td>\n",
       "      <td>2.68</td>\n",
       "      <td>3.47</td>\n",
       "      <td>9.0</td>\n",
       "      <td>154.0</td>\n",
       "      <td>5000.0</td>\n",
       "      <td>19</td>\n",
       "      <td>26</td>\n",
       "      <td>16500.0</td>\n",
       "    </tr>\n",
       "    <tr>\n",
       "      <th>3</th>\n",
       "      <td>2</td>\n",
       "      <td>164.0</td>\n",
       "      <td>1</td>\n",
       "      <td>1</td>\n",
       "      <td>0</td>\n",
       "      <td>0</td>\n",
       "      <td>3</td>\n",
       "      <td>1</td>\n",
       "      <td>0</td>\n",
       "      <td>99.8</td>\n",
       "      <td>...</td>\n",
       "      <td>109</td>\n",
       "      <td>5</td>\n",
       "      <td>3.19</td>\n",
       "      <td>3.40</td>\n",
       "      <td>10.0</td>\n",
       "      <td>102.0</td>\n",
       "      <td>5500.0</td>\n",
       "      <td>24</td>\n",
       "      <td>30</td>\n",
       "      <td>13950.0</td>\n",
       "    </tr>\n",
       "    <tr>\n",
       "      <th>4</th>\n",
       "      <td>2</td>\n",
       "      <td>164.0</td>\n",
       "      <td>1</td>\n",
       "      <td>1</td>\n",
       "      <td>0</td>\n",
       "      <td>0</td>\n",
       "      <td>3</td>\n",
       "      <td>0</td>\n",
       "      <td>0</td>\n",
       "      <td>99.4</td>\n",
       "      <td>...</td>\n",
       "      <td>136</td>\n",
       "      <td>5</td>\n",
       "      <td>3.19</td>\n",
       "      <td>3.40</td>\n",
       "      <td>8.0</td>\n",
       "      <td>115.0</td>\n",
       "      <td>5500.0</td>\n",
       "      <td>18</td>\n",
       "      <td>22</td>\n",
       "      <td>17450.0</td>\n",
       "    </tr>\n",
       "  </tbody>\n",
       "</table>\n",
       "<p>5 rows × 26 columns</p>\n",
       "</div>"
      ],
      "text/plain": [
       "   0      1   2   3   4   5   6   7   8     9   ...   16  17    18    19  \\\n",
       "0   3  122.0   0   1   0   1   0   2   0  88.6  ...  130   5  3.47  2.68   \n",
       "1   3  122.0   0   1   0   1   0   2   0  88.6  ...  130   5  3.47  2.68   \n",
       "2   1  122.0   0   1   0   1   2   2   0  94.5  ...  152   5  2.68  3.47   \n",
       "3   2  164.0   1   1   0   0   3   1   0  99.8  ...  109   5  3.19  3.40   \n",
       "4   2  164.0   1   1   0   0   3   0   0  99.4  ...  136   5  3.19  3.40   \n",
       "\n",
       "     20     21      22  23  24       25  \n",
       "0   9.0  111.0  5000.0  21  27  13495.0  \n",
       "1   9.0  111.0  5000.0  21  27  16500.0  \n",
       "2   9.0  154.0  5000.0  19  26  16500.0  \n",
       "3  10.0  102.0  5500.0  24  30  13950.0  \n",
       "4   8.0  115.0  5500.0  18  22  17450.0  \n",
       "\n",
       "[5 rows x 26 columns]"
      ]
     },
     "execution_count": 8,
     "metadata": {},
     "output_type": "execute_result"
    }
   ],
   "source": [
    "for i in range(len(df.columns)):\n",
    "    if (df[df.columns[i]].dtypes=='object'):\n",
    "        df[df.columns[i]] = df[df.columns[i]].astype('category')\n",
    "        df[df.columns[i]] = df[df.columns[i]].cat.codes\n",
    "df.head()"
   ]
  },
  {
   "cell_type": "markdown",
   "metadata": {},
   "source": [
    "### Prepare the experiments\n",
    "#### Tujuan Penelitian\n",
    "* Membandingkan model algoritma Linear Regression dengan algoritma Decision Tree Regressor untuk dataset automobile.\n",
    "#### Respon / Ukuran Kinerja\n",
    "* Persentase prediksi harga mobil.\n",
    "#### Faktor dan Level\n",
    "* Faktor yang mempengaruhi untuk penerapan algoritma Decision Tree Regressor adalah nilai cv.\n",
    "* Nilai cv untuk ekksperimen ini ditentukan sebesar 4.\n",
    "#### Desain Eksperimen\n",
    "* Skema eksperimen yang digunakan adalah Cross validation."
   ]
  },
  {
   "cell_type": "markdown",
   "metadata": {},
   "source": [
    "### Membagi dataset menjadi data training dan data testing"
   ]
  },
  {
   "cell_type": "code",
   "execution_count": 9,
   "metadata": {},
   "outputs": [
    {
     "name": "stdout",
     "output_type": "stream",
     "text": [
      "\n",
      "Data Training:\n",
      "\n",
      "     0      1   2   3   4   5   6   7   8     9   ...  15   16  17    18  \\\n",
      "135   2  104.0  17   1   0   0   3   1   0  99.1  ...   2  121   5  3.54   \n",
      "134   3  150.0  17   1   0   1   2   1   0  99.1  ...   2  121   5  2.54   \n",
      "41    0   85.0   5   1   0   0   3   1   0  96.5  ...   2  110   5  3.15   \n",
      "161   0   91.0  19   1   0   0   2   1   0  95.7  ...   2   98   1  3.19   \n",
      "159   0   91.0  19   0   0   0   2   1   0  95.7  ...   2  110   3  3.27   \n",
      "\n",
      "       19    20     21      22  23  24  \n",
      "135  3.07   9.3  110.0  5250.0  21  28  \n",
      "134  2.07   9.3  110.0  5250.0  21  28  \n",
      "41   3.58   9.0  101.0  5800.0  24  28  \n",
      "161  3.03   9.0   70.0  4800.0  28  34  \n",
      "159  3.35  22.5   56.0  4500.0  38  47  \n",
      "\n",
      "[5 rows x 25 columns]\n",
      "(164, 25)\n",
      "\n",
      "Data Testing:\n",
      "\n",
      "     0      1   2   3   4   5   6   7   8     9   ...  15   16  17    18  \\\n",
      "189   3  122.0  20   1   0   1   0   1   0  94.5  ...   2  109   5  3.19   \n",
      "183   2  122.0  20   1   0   1   3   1   0  97.3  ...   2  109   5  3.19   \n",
      "118   1  119.0  14   1   0   1   2   1   0  93.7  ...   2   90   1  2.97   \n",
      "165   1  168.0  19   1   0   1   3   2   0  94.5  ...   2   98   5  3.24   \n",
      "160   0   91.0  19   1   0   0   3   1   0  95.7  ...   2   98   1  3.19   \n",
      "\n",
      "       19   20     21      22  23  24  \n",
      "189  3.40  8.5   90.0  5500.0  24  29  \n",
      "183  3.40  9.0   85.0  5250.0  27  34  \n",
      "118  3.23  9.4   68.0  5500.0  37  41  \n",
      "165  3.08  9.4  112.0  6600.0  26  29  \n",
      "160  3.03  9.0   70.0  4800.0  38  47  \n",
      "\n",
      "[5 rows x 25 columns]\n",
      "(41, 25)\n"
     ]
    }
   ],
   "source": [
    "from sklearn.linear_model import LinearRegression\n",
    "from sklearn.model_selection import train_test_split\n",
    "\n",
    "source = df.iloc[:,:-1] \n",
    "target = df[25] \n",
    "\n",
    "sv_train, sv_test, tv_train, tv_test = train_test_split(source, target, random_state=3, test_size=0.2)\n",
    "print(\"\\nData Training:\\n\")\n",
    "print(sv_train.head())\n",
    "print(sv_train.shape)\n",
    "\n",
    "print(\"\\nData Testing:\\n\")\n",
    "print(sv_test.head())\n",
    "print(sv_test.shape)"
   ]
  },
  {
   "cell_type": "markdown",
   "metadata": {},
   "source": [
    "### Modeling : Algoritma LinearRegression"
   ]
  },
  {
   "cell_type": "code",
   "execution_count": 10,
   "metadata": {},
   "outputs": [
    {
     "data": {
      "text/plain": [
       "LinearRegression(copy_X=True, fit_intercept=True, n_jobs=None, normalize=False)"
      ]
     },
     "execution_count": 10,
     "metadata": {},
     "output_type": "execute_result"
    }
   ],
   "source": [
    "lr_model = LinearRegression()\n",
    "lr_model.fit(sv_train, tv_train)"
   ]
  },
  {
   "cell_type": "code",
   "execution_count": 11,
   "metadata": {},
   "outputs": [
    {
     "data": {
      "text/plain": [
       "array([ 1.89029998e+01, -8.48474427e+00, -2.15483383e+02, -1.45707760e+03,\n",
       "        2.47086702e+03, -7.30625935e+02, -1.21071269e+03,  5.82372687e+02,\n",
       "        1.17479259e+04,  8.06324351e+01,  9.94292188e+01,  1.67609530e+02,\n",
       "        4.05893454e+02,  1.58811792e+00,  5.28804321e+02,  1.16942291e+03,\n",
       "        1.40550435e+02,  3.08117664e+02, -1.52402495e+03, -3.06856653e+03,\n",
       "       -1.11672651e+02, -2.85401695e+01,  2.86497480e+00,  8.09874892e+01,\n",
       "        2.30481979e+01])"
      ]
     },
     "execution_count": 11,
     "metadata": {},
     "output_type": "execute_result"
    }
   ],
   "source": [
    "lr_model.coef_"
   ]
  },
  {
   "cell_type": "code",
   "execution_count": 12,
   "metadata": {},
   "outputs": [
    {
     "data": {
      "text/plain": [
       "-63148.01127701166"
      ]
     },
     "execution_count": 12,
     "metadata": {},
     "output_type": "execute_result"
    }
   ],
   "source": [
    "lr_model.intercept_"
   ]
  },
  {
   "cell_type": "code",
   "execution_count": 13,
   "metadata": {},
   "outputs": [],
   "source": [
    "pred = lr_model.predict(sv_test)"
   ]
  },
  {
   "cell_type": "code",
   "execution_count": 14,
   "metadata": {},
   "outputs": [
    {
     "data": {
      "text/plain": [
       "array([10667.93058809,  8391.42335456,  5525.55629663,  7464.77647817,\n",
       "        6120.10470756, 26114.70117215,  8794.30342131,  5764.85656479,\n",
       "        6430.75393948, 32546.15745336,  5702.43831079,  7419.07706473,\n",
       "        5300.48252267, 22542.94980325, 31016.94556977,  9553.52548174,\n",
       "        5221.07728172, 11185.57922867,  5002.47797605,  8336.60153377,\n",
       "       24688.89472305, 23204.09278234,  7726.6109416 , 13085.24640407,\n",
       "       11449.89105046, 14837.56659566, 22056.91324617, 13162.22488402,\n",
       "       18030.90067162, 22570.51771766,  6805.93336847, 19491.30110177,\n",
       "       13219.98825805, 41271.494495  , 12093.09297226,  7078.1901166 ,\n",
       "       11673.14575067, 29002.22824727, 15085.0074932 , 10186.03786959,\n",
       "        6745.68582203])"
      ]
     },
     "execution_count": 14,
     "metadata": {},
     "output_type": "execute_result"
    }
   ],
   "source": [
    "pred "
   ]
  },
  {
   "cell_type": "markdown",
   "metadata": {},
   "source": [
    "#### Menghitung akurasi menggunakan cross validation score R2 untuk model LinearRegression"
   ]
  },
  {
   "cell_type": "code",
   "execution_count": 16,
   "metadata": {},
   "outputs": [
    {
     "name": "stdout",
     "output_type": "stream",
     "text": [
      "0.5475930817607665\n"
     ]
    }
   ],
   "source": [
    "from sklearn import model_selection\n",
    "\n",
    "results = model_selection.cross_val_score(lr_model, source, target, cv=4, scoring='r2')\n",
    "print(results.mean())"
   ]
  },
  {
   "cell_type": "markdown",
   "metadata": {},
   "source": [
    "### Re-modeling : Algoritma DecisionTreeRegressor"
   ]
  },
  {
   "cell_type": "code",
   "execution_count": 17,
   "metadata": {},
   "outputs": [
    {
     "data": {
      "text/plain": [
       "DecisionTreeRegressor(criterion='mse', max_depth=None, max_features=None,\n",
       "                      max_leaf_nodes=None, min_impurity_decrease=0.0,\n",
       "                      min_impurity_split=None, min_samples_leaf=1,\n",
       "                      min_samples_split=2, min_weight_fraction_leaf=0.0,\n",
       "                      presort=False, random_state=0, splitter='best')"
      ]
     },
     "execution_count": 17,
     "metadata": {},
     "output_type": "execute_result"
    }
   ],
   "source": [
    "from sklearn.tree import DecisionTreeRegressor\n",
    "\n",
    "regressor = DecisionTreeRegressor(random_state = 0)\n",
    "regressor.fit(sv_train, tv_train)"
   ]
  },
  {
   "cell_type": "code",
   "execution_count": 18,
   "metadata": {},
   "outputs": [],
   "source": [
    "pred = regressor.predict(sv_test)"
   ]
  },
  {
   "cell_type": "code",
   "execution_count": 19,
   "metadata": {},
   "outputs": [
    {
     "data": {
      "text/plain": [
       "array([ 9549.        ,  7295.        ,  5389.        ,  9538.        ,\n",
       "        7198.        , 25552.        ,  8845.        ,  6918.        ,\n",
       "        7609.        , 36880.        ,  6669.        ,  7603.        ,\n",
       "        8249.        , 18950.        , 35550.        ,  8495.        ,\n",
       "        7198.        ,  7895.        ,  8358.        ,  7775.        ,\n",
       "       19045.        , 18420.        ,  6529.        , 13207.12935323,\n",
       "        8845.        , 11900.        , 18150.        , 11694.        ,\n",
       "       21105.        , 18399.        ,  6795.        , 19045.        ,\n",
       "       16503.        , 45400.        , 13645.        ,  7995.        ,\n",
       "       11395.        , 36000.        ,  8778.        , 18344.        ,\n",
       "        7898.        ])"
      ]
     },
     "execution_count": 19,
     "metadata": {},
     "output_type": "execute_result"
    }
   ],
   "source": [
    "pred"
   ]
  },
  {
   "cell_type": "markdown",
   "metadata": {},
   "source": [
    "#### Menghitung akurasi menggunakan cross validation score R2 untuk model DecisionTreeRegressor"
   ]
  },
  {
   "cell_type": "code",
   "execution_count": 20,
   "metadata": {},
   "outputs": [
    {
     "name": "stdout",
     "output_type": "stream",
     "text": [
      "0.6282904715924365\n"
     ]
    }
   ],
   "source": [
    "results = model_selection.cross_val_score(regressor, source, target, cv=4, scoring='r2')\n",
    "print(results.mean())"
   ]
  },
  {
   "cell_type": "markdown",
   "metadata": {},
   "source": [
    "### Kesimpulan\n",
    "* Untuk data automobile ini, modelling pertama menggunakan algoritma Linear Regression dan menghasilkan nilai akurasi menggunakan metode cross validation R2 sebesar 0.547 (55%).\n",
    "* Setelah didapatkan akurasi sebesar 55% untuk modelling menggunakan Linear Regression, dilakukan Remodeling menggunakan algoritma Decision Tree Regressor dan menghasilkan nilai akurasi yang meningkat, yaitu sebesar 0.628 (63%).\n",
    "* Jadi untuk data automobile, algoritma Decision Tree Regressor menghasilkan model yang lebih baik dibandingkan dengan menggunakan algoritma Linear Regression."
   ]
  },
  {
   "cell_type": "code",
   "execution_count": null,
   "metadata": {},
   "outputs": [],
   "source": []
  }
 ],
 "metadata": {
  "kernelspec": {
   "display_name": "Python 3",
   "language": "python",
   "name": "python3"
  },
  "language_info": {
   "codemirror_mode": {
    "name": "ipython",
    "version": 3
   },
   "file_extension": ".py",
   "mimetype": "text/x-python",
   "name": "python",
   "nbconvert_exporter": "python",
   "pygments_lexer": "ipython3",
   "version": "3.7.3"
  }
 },
 "nbformat": 4,
 "nbformat_minor": 2
}
